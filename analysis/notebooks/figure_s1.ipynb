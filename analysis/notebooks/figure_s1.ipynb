{
 "cells": [
  {
   "cell_type": "markdown",
   "id": "4ac8a9d5",
   "metadata": {},
   "source": [
    "# Analysis for figure S1"
   ]
  },
  {
   "cell_type": "code",
   "execution_count": 38,
   "id": "5aed4e14",
   "metadata": {},
   "outputs": [],
   "source": [
    "import pickle\n",
    "import pandas as pd\n",
    "import seaborn as sns\n",
    "import numpy as np\n",
    "import matplotlib.pyplot as plt\n",
    "import matplotlib as mpl\n",
    "import warnings\n",
    "import sys\n",
    "import os\n",
    "from sklearn.ensemble import RandomForestClassifier\n",
    "from sklearn.metrics import classification_report, roc_curve\n",
    "from sklearn import metrics\n",
    "from sklearn.model_selection import RandomizedSearchCV\n",
    "from sklearn.model_selection import GridSearchCV\n",
    "import scipy\n",
    "\n",
    "import matplotlib.pyplot as plt\n",
    "from sklearn import model_selection\n",
    "from sklearn.linear_model import LogisticRegression\n",
    "from sklearn.tree import DecisionTreeClassifier\n",
    "from sklearn.neighbors import KNeighborsClassifier\n",
    "from sklearn.discriminant_analysis import LinearDiscriminantAnalysis\n",
    "from sklearn.naive_bayes import GaussianNB\n",
    "from sklearn.svm import SVC\n",
    "import lightgbm as lgb\n",
    "from lightgbm import LGBMClassifier\n",
    "import re\n",
    "\n",
    "from sklearn.ensemble import GradientBoostingClassifier\n",
    "\n",
    "\n",
    "warnings.simplefilter('ignore', pd.errors.DtypeWarning)\n",
    "np.seterr(divide='ignore')\n",
    "warnings.simplefilter(\"ignore\")\n",
    "\n",
    "sys.path.append(os.path.abspath('../..'))\n",
    "\n",
    "import analysis.calc_single_cell_properties as calculator \n",
    "import analysis.calc_auc_over_time as auc_calculator \n",
    "import analysis.utils as utils\n",
    "import data_layer.utils as data_utils\n",
    "from model_layer import build_model\n",
    "from model_layer import utils as model_utils\n",
    "from configuration import consts, params"
   ]
  },
  {
   "cell_type": "code",
   "execution_count": 26,
   "id": "1bd87402",
   "metadata": {},
   "outputs": [],
   "source": [
    "def load_data_(modality, con_train_n, diff_train_n, con_test_n, diff_test_n, load_raw_test_data=False):\n",
    "    model_path = consts.intensity_model_path if modality == \"actin_intensity\" else consts.motility_model_path\n",
    "    _, X_train, X_test, y_train, y_test = data_utils.load_data(model_path % (1,5), load_clf=False, load_x_train=True, load_x_test=True, load_y_train=True, load_y_test=True)\n",
    "    X_train = X_train.drop(columns=[\"Spot track ID\"])\n",
    "    X_test = X_test.drop(columns=[\"Spot track ID\"])\n",
    "\n",
    "    y_train = y_train[\"target\"]\n",
    "    y_test = y_test[\"target\"]\n",
    "    \n",
    "    con_df_test, diff_df_test = None, None\n",
    "    if load_raw_test_data:\n",
    "        diff_df_train, con_df_train, con_df_test, diff_df_test = build_model.get_to_run(transformed_data_path=consts.transformed_data_path, modality=modality,\n",
    "                                                           con_train_num=con_train_n, diff_train_num=diff_train_n,\n",
    "                                                           con_test_num=con_test_n, diff_test_num=diff_test_n)\n",
    "        \n",
    "        \n",
    "    return (X_train, y_train, X_test, y_test), (con_df_test, diff_df_test)"
   ]
  },
  {
   "cell_type": "code",
   "execution_count": 5,
   "id": "291a53d2",
   "metadata": {},
   "outputs": [],
   "source": [
    "from sklearn.model_selection import train_test_split\n",
    "path = consts.storage_path + \"15-12-2022-motility local dens-False, s1, s5 train [130, 160] diff window/track len 30, impute_func-ImputeAllData_impute_zeroes reg MeanOpticalFlowReg_\"\n",
    "_, X_train, X_test, y_train, y_test = data_utils.load_data(path, load_clf=False, load_x_train=True, load_x_test=True, load_y_train=True, load_y_test=True)"
   ]
  },
  {
   "cell_type": "code",
   "execution_count": 6,
   "id": "230f65f3",
   "metadata": {},
   "outputs": [
    {
     "data": {
      "text/plain": [
       "(False    468\n",
       " True     268\n",
       " Name: target, dtype: int64,\n",
       " True     577\n",
       " False    180\n",
       " Name: target, dtype: int64)"
      ]
     },
     "execution_count": 6,
     "metadata": {},
     "output_type": "execute_result"
    }
   ],
   "source": [
    "y_train[\"target\"].value_counts(), y_test[\"target\"].value_counts()"
   ]
  },
  {
   "cell_type": "code",
   "execution_count": 7,
   "id": "7b187a74",
   "metadata": {},
   "outputs": [],
   "source": [
    "def evaluate_clf(model, test_features, test_labels):\n",
    "    predictions = model.predict(test_features)\n",
    "    probs = model.predict_proba(test_features)[:, 1]\n",
    "    correct_predictions = np.sum(predictions == test_labels)\n",
    "    accuracy = correct_predictions / len(test_labels)\n",
    "    \n",
    "    fpr, tpr, thresholds = roc_curve(test_labels, predictions)\n",
    "    auc_score = metrics.auc(fpr, tpr)\n",
    "    brier = metrics.brier_score_loss(test_labels, probs)  \n",
    "    return auc_score, brier"
   ]
  },
  {
   "cell_type": "markdown",
   "id": "0775d6cd",
   "metadata": {},
   "source": [
    "# classifiers comparison"
   ]
  },
  {
   "cell_type": "code",
   "execution_count": 8,
   "id": "c8c56c31",
   "metadata": {},
   "outputs": [],
   "source": [
    "con_train_n = 1\n",
    "diff_train_n = 5\n",
    "con_test_n = 2\n",
    "diff_test_n = 3\n",
    "modality=\"motility\""
   ]
  },
  {
   "cell_type": "code",
   "execution_count": 9,
   "id": "7cb403e8",
   "metadata": {},
   "outputs": [],
   "source": [
    "from tsfresh import select_features\n",
    "from lightgbm import LGBMClassifier\n",
    "from sklearn.linear_model import SGDClassifier\n",
    "\n",
    "# prepare configuration for cross validation test harness\n",
    "# prepare models\n",
    "models = []\n",
    "models.append(('RF', RandomForestClassifier))\n",
    "models.append(('GB', GradientBoostingClassifier))\n",
    "models.append(('LR', LogisticRegression))\n",
    "models.append(('KNN', KNeighborsClassifier))\n",
    "models.append(('SVM', SVC))\n",
    "\n",
    "\n",
    "def clean_cols_drop_duplicates(df):\n",
    "    df= df.rename(columns = lambda x:re.sub('[^A-Za-z0-9_ ]+', '', x))\n",
    "    df = df.loc[:,~df.columns.duplicated()]\n",
    "\n",
    "    return df\n",
    "\n",
    "def compare_algorithms(X_train, y_train, X_test, y_test, con_df_test, diff_df_test, modality):\n",
    "    \n",
    "    # evaluate each model in turn\n",
    "    results = []\n",
    "    names = []\n",
    "    scoring = 'roc_auc'\n",
    "    for name, model_class in models:\n",
    "        if name==\"SVM\":\n",
    "            model = model_class(probability=True)\n",
    "        else:\n",
    "            model = model_class()\n",
    "        model.fit(X_train, y_train)\n",
    "        auc_score, _ = evaluate_clf(model, X_test, y_test)\n",
    "        \n",
    "        if name==\"SVM\":\n",
    "            model_flip = model_class(probability=True)\n",
    "        else:\n",
    "            model_flip = model_class()\n",
    "        model_flip.fit(X_test, y_test)\n",
    "        auc_score_flip, _ = evaluate_clf(model_flip, X_train, y_train)\n",
    "        \n",
    "        results.append([auc_score, auc_score_flip])\n",
    "        names.append(name)\n",
    "        \n",
    "        msg = \"%s:test scores = %.3f +- (%.3f)\" % (name, np.mean([auc_score,auc_score_flip]), np.std([auc_score,auc_score_flip])) + f\"aucs: {round(auc_score,4)} original, {round(auc_score_flip,4)} flipped\"\n",
    "        print(msg)\n",
    "    \n",
    "#     boxplot algorithm comparison - cross_validation\n",
    "    fig = plt.figure()\n",
    "    fig.suptitle('Algorithm Comparison')\n",
    "    ax = fig.add_subplot(111)\n",
    "    plt.boxplot(results)\n",
    "    ax.set_xticklabels(names)\n",
    "    plt.savefig(consts.storage_path + f\"eps_figs/algorithm_comparison_{modality}.eps\", format=\"eps\")\n",
    "    plt.show()"
   ]
  },
  {
   "cell_type": "code",
   "execution_count": 27,
   "id": "fbca8705",
   "metadata": {},
   "outputs": [
    {
     "name": "stdout",
     "output_type": "stream",
     "text": [
      "read data from video number 5\n",
      "diff train len: (95638, 1580)\n",
      "read data from video number 1\n",
      "con_df_train len: (66544, 1580)\n",
      "read data from video number 2\n",
      "read data from video number 3\n"
     ]
    }
   ],
   "source": [
    "from sklearn.model_selection import train_test_split\n",
    "\n",
    "con_train_n = 1\n",
    "diff_train_n = 5\n",
    "con_test_n = 2\n",
    "diff_test_n = 3\n",
    "modality=\"motility\"\n",
    "\n",
    "path = consts.storage_path + \"15-12-2022-motility local dens-False, s1, s5 train [130, 160] diff window/track len 30, impute_func-ImputeAllData_impute_zeroes reg MeanOpticalFlowReg_\"\n",
    "(X_train, y_train, X_test, y_test), (con_df_test, diff_df_test) = load_data_(modality, con_train_n, diff_train_n, con_test_n, diff_test_n, load_raw_test_data=True)\n"
   ]
  },
  {
   "cell_type": "code",
   "execution_count": 33,
   "id": "2b864a6a",
   "metadata": {},
   "outputs": [
    {
     "name": "stdout",
     "output_type": "stream",
     "text": [
      "read data from video number 5\n",
      "diff train len: (95638, 1580)\n",
      "read data from video number 1\n",
      "con_df_train len: (66544, 1580)\n",
      "read data from video number 2\n",
      "read data from video number 3\n"
     ]
    }
   ],
   "source": [
    "from sklearn.model_selection import train_test_split\n",
    "\n",
    "con_train_n = 1\n",
    "diff_train_n = 5\n",
    "con_test_n = 2\n",
    "diff_test_n = 3\n",
    "modality=\"motility\"\n",
    "\n",
    "path = consts.storage_path + \"15-12-2022-motility local dens-False, s1, s5 train [130, 160] diff window/track len 30, impute_func-ImputeAllData_impute_zeroes reg MeanOpticalFlowReg_\"\n",
    "(X_train, y_train, X_test, y_test), (con_df_test, diff_df_test) = load_data_(modality, con_train_n, diff_train_n, con_test_n, diff_test_n, load_raw_test_data=True)\n"
   ]
  },
  {
   "cell_type": "code",
   "execution_count": 47,
   "id": "55fb66b7",
   "metadata": {},
   "outputs": [
    {
     "name": "stdout",
     "output_type": "stream",
     "text": [
      "              precision    recall  f1-score   support\n",
      "\n",
      "       False       0.72      0.98      0.83       180\n",
      "        True       0.99      0.88      0.93       577\n",
      "\n",
      "    accuracy                           0.90       757\n",
      "   macro avg       0.86      0.93      0.88       757\n",
      "weighted avg       0.93      0.90      0.91       757\n",
      "\n",
      "0.9290968611592529\n",
      "classifier: RF, auc score: 0.9290968611592529\n",
      "              precision    recall  f1-score   support\n",
      "\n",
      "       False       1.00      1.00      1.00       180\n",
      "        True       1.00      1.00      1.00       577\n",
      "\n",
      "    accuracy                           1.00       757\n",
      "   macro avg       1.00      1.00      1.00       757\n",
      "weighted avg       1.00      1.00      1.00       757\n",
      "\n",
      "1.0\n",
      "classifier: GB, auc score: 1.0\n",
      "              precision    recall  f1-score   support\n",
      "\n",
      "       False       0.77      1.00      0.87       180\n",
      "        True       1.00      0.91      0.95       577\n",
      "\n",
      "    accuracy                           0.93       757\n",
      "   macro avg       0.88      0.95      0.91       757\n",
      "weighted avg       0.95      0.93      0.93       757\n",
      "\n",
      "0.9532062391681109\n",
      "classifier: LR, auc score: 0.9532062391681109\n",
      "              precision    recall  f1-score   support\n",
      "\n",
      "       False       1.00      1.00      1.00       180\n",
      "        True       1.00      1.00      1.00       577\n",
      "\n",
      "    accuracy                           1.00       757\n",
      "   macro avg       1.00      1.00      1.00       757\n",
      "weighted avg       1.00      1.00      1.00       757\n",
      "\n",
      "1.0\n",
      "classifier: KNN, auc score: 1.0\n",
      "              precision    recall  f1-score   support\n",
      "\n",
      "       False       1.00      1.00      1.00       180\n",
      "        True       1.00      1.00      1.00       577\n",
      "\n",
      "    accuracy                           1.00       757\n",
      "   macro avg       1.00      1.00      1.00       757\n",
      "weighted avg       1.00      1.00      1.00       757\n",
      "\n",
      "1.0\n",
      "classifier: SVM, auc score: 1.0\n"
     ]
    }
   ],
   "source": [
    "_, X_train, X_test, y_train, y_test = data_utils.load_data(path, load_clf=False, load_x_train=True, load_x_test=True, load_y_train=True, load_y_test=True)\n",
    "dir_path = \"outputs\"\n",
    "model_utils.train_model_compare_algorithms(X_train, y_train[\"target\"], X_test, y_test[\"target\"], dir_path)"
   ]
  },
  {
   "cell_type": "code",
   "execution_count": 37,
   "id": "4c4ebea7",
   "metadata": {},
   "outputs": [
    {
     "name": "stdout",
     "output_type": "stream",
     "text": [
      "actin [0.78, 0.77, 0.76, 0.59, 0.54]\n",
      "motility [0.8, 0.8, 0.64, 0.59, 0.59]\n"
     ]
    },
    {
     "data": {
      "text/plain": [
       "<matplotlib.legend.Legend at 0x7f372a410280>"
      ]
     },
     "execution_count": 37,
     "metadata": {},
     "output_type": "execute_result"
    },
    {
     "data": {
      "image/png": "[encoded data removed]",
      "text/plain": [
       "<Figure size 640x480 with 1 Axes>"
      ]
     },
     "metadata": {},
     "output_type": "display_data"
    },
    {
     "data": {
      "image/png": "[encoded data removed]",
      "text/plain": [
       "<Figure size 640x480 with 1 Axes>"
      ]
     },
     "metadata": {},
     "output_type": "display_data"
    }
   ],
   "source": [
    "# actin intensity\n",
    "names = [\"RF\", \"GB\", \"LR\", \"KNN\", \"SVM\"]\n",
    "aucs_original = [0.8114577315617176, 0.8008809936452917, 0.7904823801270942, 0.5811910263816675, 0.5858463316002311]\n",
    "aucs_flipped = [0.7390986245244366, 0.7311603745976003, 0.721543426657562, 0.605701069814327, 0.5]\n",
    "mean_aucs = [round(val, 2) for val in np.mean([aucs_original, aucs_flipped], axis=0)]\n",
    "print(\"actin\", mean_aucs)\n",
    "\n",
    "X = np.arange(5)\n",
    "fig = plt.figure()\n",
    "ax = fig.add_axes([0,0,1,1])\n",
    "ax.bar(X + 0.00, aucs_original, color = 'b', width = 0.25, tick_label=names, label=\"original\")\n",
    "ax.bar(X + 0.25, aucs_flipped, color = 'g', width = 0.25, tick_label=names, label=\"flipped\")\n",
    "plt.ylim((0.45, 1))\n",
    "plt.savefig(consts.storage_path + f\"eps_figs/algorithm_comparison_intensity barplot.eps\", format=\"eps\")\n",
    "plt.legend()\n",
    "\n",
    "# motility\n",
    "names = [\"RF\", \"GB\", \"LR\", \"KNN\", \"SVM\"]\n",
    "aucs_original = [0.8068650105911805, 0.8162189485846331, 0.7303822453302523, 0.6715386096668592, 0.6657471596379743]##[0.8033988060851146, 0.8117080685538225, 0.7258713652994415, 0.6715386096668592, 0.6657471596379743]]\n",
    "aucs_flipped = [0.7949036866947314, 0.7866277586426841, 0.5595898711570353, 0.5179550963133053, 0.5053418803418803]##[0.7900880214313051, 0.7898328868478122, 0.5595898711570353, 0.5179550963133053, 0.5053418803418803]]\n",
    "print(\"motility\", [round(val, 2) for val in  np.mean([aucs_original, aucs_flipped], axis=0)])\n",
    "X = np.arange(5)\n",
    "fig = plt.figure()\n",
    "ax = fig.add_axes([0,0,1,1])\n",
    "ax.bar(X + 0.00, aucs_original, color = 'b', width = 0.25, tick_label=names, label=\"original\")\n",
    "ax.bar(X + 0.25, aucs_flipped, color = 'g', width = 0.25, tick_label=names, label=\"flipped\")\n",
    "plt.ylim((0.45, 1))\n",
    "plt.savefig(consts.storage_path + f\"eps_figs/algorithm_comparison_motility barplot.eps\", format=\"eps\")\n",
    "plt.legend()\n"
   ]
  },
  {
   "cell_type": "code",
   "execution_count": null,
   "id": "b53e605b",
   "metadata": {},
   "outputs": [],
   "source": []
  }
 ],
 "metadata": {
  "kernelspec": {
   "display_name": "Python 3 (tf-env-new)",
   "language": "python",
   "name": "tf-env-new"
  },
  "language_info": {
   "codemirror_mode": {
    "name": "ipython",
    "version": 3
   },
   "file_extension": ".py",
   "mimetype": "text/x-python",
   "name": "python",
   "nbconvert_exporter": "python",
   "pygments_lexer": "ipython3",
   "version": "3.8.6"
  }
 },
 "nbformat": 4,
 "nbformat_minor": 5
}
