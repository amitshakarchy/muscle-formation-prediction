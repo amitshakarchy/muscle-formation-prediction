{
 "cells": [
  {
   "cell_type": "code",
   "execution_count": 1,
   "id": "4dfba496",
   "metadata": {},
   "outputs": [],
   "source": [
    "%matplotlib inline"
   ]
  },
  {
   "cell_type": "code",
   "execution_count": 5,
   "id": "69fe77b3",
   "metadata": {},
   "outputs": [],
   "source": [
    "import skimage.io\n",
    "import numpy as np\n",
    "import matplotlib as mpl\n",
    "import matplotlib.pyplot as plt\n",
    "import matplotlib.animation as animation\n",
    "import mpl_toolkits\n",
    "from mpl_toolkits.mplot3d import Axes3D\n",
    "from matplotlib.animation import FuncAnimation, writers\n",
    "import pandas as pd\n",
    "import ipympl\n",
    "from mpl_toolkits.axes_grid1.axes_divider import make_axes_locatable\n",
    "import math\n",
    "import sys, os\n",
    "sys.path.append('/sise/home/shakarch/muscle-formation-regeneration')\n",
    "sys.path.append(os.path.abspath('..'))\n",
    "from TimeSeriesAnalysis.utils.data_load_save import *\n",
    "\n",
    "plt.rcParams[\"animation.html\"] = \"jshtml\"\n",
    "# plt.rcParams['animation.ffmpeg_path'] = \"C:\\\\FFmpeg\\\\bin\\\\ffmpeg\"\n",
    "plt.rcParams['figure.dpi'] = 80  \n",
    "plt.rcParams['animation.embed_limit'] = 2**128\n",
    "plt.rcParams['figure.figsize']=(12,12)"
   ]
  },
  {
   "cell_type": "markdown",
   "id": "9c5d438c",
   "metadata": {},
   "source": [
    "<h2>Prepare Data<h2>"
   ]
  },
  {
   "cell_type": "code",
   "execution_count": 6,
   "id": "eadff799",
   "metadata": {},
   "outputs": [],
   "source": [
    "def load_vid(videoPath):\n",
    "    video_tif_nuc = skimage.io.imread(videoPath)\n",
    "    video_np = np.array(video_tif_nuc)\n",
    "    \n",
    "    return video_np\n"
   ]
  },
  {
   "cell_type": "code",
   "execution_count": 7,
   "id": "561a5347",
   "metadata": {},
   "outputs": [],
   "source": [
    "# load data\n",
    "tracks = get_all_properties_df(\"actin_intensity\", 1, 5, scores_vid_num=3)\n",
    "video_np = load_vid(\"/storage/users/assafzar/Muscle_Differentiation_AvinoamLab/data/videos/test/S3_nuclei.tif\") # 211212erki-p38-stiching_s3_EGFP_ORG"
   ]
  },
  {
   "cell_type": "markdown",
   "id": "03a50fdd",
   "metadata": {},
   "source": [
    "<h2>Creating new data frame with Sma and Discretization columns<h2>"
   ]
  },
  {
   "cell_type": "code",
   "execution_count": 8,
   "id": "d7e07210",
   "metadata": {},
   "outputs": [],
   "source": [
    "def create_sma_column(df, col_to_calculate, w_size_sma):\n",
    "    ID_tracks = [group for _, group in df.groupby('Spot track ID')]\n",
    "    tracks_SMA = []\n",
    "    \n",
    "    for ID in ID_tracks:\n",
    "        score_df = ID\n",
    "        score_df[col_to_calculate + '_SMA'] = score_df[col_to_calculate].rolling(w_size_sma).mean()\n",
    "        tracks_SMA.append(score_df)\n",
    "\n",
    "    All_tracks_SMA = pd.concat(tracks_SMA)\n",
    "    \n",
    "    return All_tracks_SMA\n",
    "\n",
    "def Create_Discretization_Column(dataFrame, columnToCalculate, pathToSave):\n",
    "    \n",
    "    def bins(num):\n",
    "        floor_num = (math.floor(num * 10)) /10\n",
    "        return floor_num\n",
    "    \n",
    "    dataFrame[columnToCalculate] = All_tracks_SMA[columnToCalculate].fillna(0)\n",
    "    dataFrame['score_discretization'] = dataFrame['score_intensity']\n",
    "    ID_tracks = [group for _, group in All_tracks_SMA.groupby('Spot track ID')]\n",
    "    tracks_discretization = []\n",
    "    \n",
    "    for ID in ID_tracks:   \n",
    "        score_df = ID\n",
    "        score = ID.iloc[:,7]\n",
    "        score_disc = [bins(item) for item in score]\n",
    "\n",
    "        score_df['score_discretization'] = score_disc\n",
    "        tracks_discretization.append(score_df)\n",
    "\n",
    "    All_tracks_bins_SMA = pd.concat(tracks_discretization)\n",
    "    df_to_pickle = All_tracks_bins_SMA.to_pickle(pathToSave)\n",
    "    \n",
    "    return df_to_pickle\n",
    "\n",
    "def Create_Sma_And__Discretization_Column(dataFrame, columnToCalculate, windowSizeSma, pathToSave):\n",
    "    df_with_sma = Create_Sma_Column(dataFrame, columnToCalculate, windowSizeSma)\n",
    "    df_with_disc_sma = Create_Discretization_Column(df_with_sma, columnToCalculate, pathToSave)\n",
    "    \n",
    "    return df_with_disc_sma\n",
    "\n",
    "def create_change_in_score_column(df, col_to_calculate): # todo group by Spot track ID & sory by Spot frame\n",
    "    df[f\"{col_to_calculate}_change\"] = df[col_to_calculate].diff()\n",
    "    return df\n",
    "\n",
    "\n",
    "def convert_to_groupByFrame(df):\n",
    "    tracks = [group for _, group in df.groupby('Spot frame')]\n",
    "    \n",
    "    return tracks\n",
    "\n"
   ]
  },
  {
   "cell_type": "markdown",
   "id": "4cd23665",
   "metadata": {},
   "source": [
    "<h2>Visualization<h2>"
   ]
  },
  {
   "cell_type": "code",
   "execution_count": 9,
   "id": "4a211063",
   "metadata": {},
   "outputs": [],
   "source": [
    "def VisualizationAnimation(tracks_df, present_col_name, GifName, video, frame_start=0, frame_end=258, cmap=\"Oranges\", norm_vals=(0, 1)):\n",
    "    fig, ax = plt.subplots(figsize=(15,13))\n",
    "    ax.get_xaxis().set_visible(False)\n",
    "    ax.get_yaxis().set_visible(False)\n",
    "    div = make_axes_locatable(ax)\n",
    "    cax = div.append_axes('right', '3%', '5%')\n",
    "    tracks_df = tracks_df[(tracks_df[\"Spot frame\"]>=frame_start) & (tracks_df[\"Spot frame\"]<=frame_end)]\n",
    "    tracks_by_frame = convert_to_groupByFrame(tracks_df)\n",
    "\n",
    "    def animate(i):\n",
    "        frame = int(i[\"Spot frame\"].min())\n",
    "        x_val = (i[\"Spot position X\"]) / 0.462\n",
    "        y_val = (i[\"Spot position Y\"]) / 0.462\n",
    "        color = i[present_col_name]\n",
    "        print(frame)\n",
    "        \n",
    "        cax.cla()\n",
    "        ax.cla()\n",
    "        ax.set_title(\"Time: {hour:.2f} (h)\".format(hour = frame * (1/12)), fontsize=25, color=\"orange\")\n",
    "\n",
    "        frame_image = video_np[frame] \n",
    "        ax.imshow(frame_image, vmin=0, vmax=255, cmap='gist_gray')\n",
    "\n",
    "        im = ax.scatter(x_val,y_val,s=50,c=color, cmap=cmap, edgecolor='black', linewidth=0.75, alpha=0.75, norm=mpl.colors.Normalize(norm_vals[0], norm_vals[1]))\n",
    "        plt.colorbar(im, cax=cax, ticks=np.arange(0,1,0.1))\n",
    "    \n",
    "    anim = FuncAnimation(fig,animate,frames=tracks_by_frame,interval=100)\n",
    "\n",
    "    writergif = animation.PillowWriter(fps=10)\n",
    "    anim.save(GifName,writer=writergif)\n",
    "\n",
    "    plt.close()\n",
    "\n",
    "    "
   ]
  },
  {
   "cell_type": "code",
   "execution_count": 1,
   "id": "2b073a8b",
   "metadata": {},
   "outputs": [
    {
     "ename": "NameError",
     "evalue": "name 'create_sma_column' is not defined",
     "output_type": "error",
     "traceback": [
      "\u001b[0;31m---------------------------------------------------------------------------\u001b[0m",
      "\u001b[0;31mNameError\u001b[0m                                 Traceback (most recent call last)",
      "Cell \u001b[0;32mIn [1], line 1\u001b[0m\n\u001b[0;32m----> 1\u001b[0m tracks \u001b[38;5;241m=\u001b[39m \u001b[43mcreate_sma_column\u001b[49m(tracks, \u001b[38;5;124m\"\u001b[39m\u001b[38;5;124mscore_intensity\u001b[39m\u001b[38;5;124m\"\u001b[39m, \u001b[38;5;241m5\u001b[39m)\n\u001b[1;32m      2\u001b[0m tracks \u001b[38;5;241m=\u001b[39m create_change_in_score_column(tracks, \u001b[38;5;124m\"\u001b[39m\u001b[38;5;124mscore_intensity_SMA\u001b[39m\u001b[38;5;124m\"\u001b[39m)\n\u001b[1;32m      3\u001b[0m tracks \u001b[38;5;241m=\u001b[39m create_sma_column(tracks, \u001b[38;5;124m\"\u001b[39m\u001b[38;5;124mscore_intensity_SMA_change\u001b[39m\u001b[38;5;124m\"\u001b[39m, \u001b[38;5;241m5\u001b[39m)\n",
      "\u001b[0;31mNameError\u001b[0m: name 'create_sma_column' is not defined"
     ]
    }
   ],
   "source": [
    "tracks = create_sma_column(tracks, \"score_intensity\", 5)\n",
    "tracks = create_change_in_score_column(tracks, \"score_intensity_SMA\")\n",
    "tracks = create_sma_column(tracks, \"score_intensity_SMA_change\", 5)\n",
    "\n",
    "VisualizationAnimation(tracks, \"score_intensity_SMA_change_SMA\", 'Diff_visualization_sma_change_sma.gif', video_np, 140, 258, cmap=\"PiYG\", norm_vals=(-0.05,0.05))"
   ]
  },
  {
   "cell_type": "code",
   "execution_count": null,
   "id": "59eb8346",
   "metadata": {},
   "outputs": [],
   "source": []
  },
  {
   "cell_type": "code",
   "execution_count": null,
   "id": "17ad84ac",
   "metadata": {},
   "outputs": [],
   "source": []
  },
  {
   "cell_type": "code",
   "execution_count": null,
   "id": "26c6556e",
   "metadata": {},
   "outputs": [],
   "source": []
  }
 ],
 "metadata": {
  "kernelspec": {
   "display_name": "Python 3 (tf-env-new)",
   "language": "python",
   "name": "tf-env-new"
  },
  "language_info": {
   "codemirror_mode": {
    "name": "ipython",
    "version": 3
   },
   "file_extension": ".py",
   "mimetype": "text/x-python",
   "name": "python",
   "nbconvert_exporter": "python",
   "pygments_lexer": "ipython3",
   "version": "3.8.6"
  }
 },
 "nbformat": 4,
 "nbformat_minor": 5
}
