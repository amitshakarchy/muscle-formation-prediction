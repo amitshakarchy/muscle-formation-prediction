{
 "cells": [
  {
   "cell_type": "markdown",
   "id": "15fd4abf",
   "metadata": {},
   "source": [
    "## Installations & Downloads"
   ]
  },
  {
   "cell_type": "code",
   "execution_count": null,
   "id": "0349e109",
   "metadata": {},
   "outputs": [],
   "source": [
    "import seaborn as sns\n",
    "import numpy as np\n",
    "import matplotlib.pyplot as plt\n",
    "import sys\n",
    "import os\n",
    "import pickle\n",
    "import scipy\n",
    "import pandas as pd\n",
    "from scipy import stats\n",
    "from scipy.stats import normaltest\n",
    "import matplotlib as mpl\n",
    "import itertools\n",
    "from itertools import groupby\n",
    "\n",
    "sys.path.append('/sise/home/shakarch/muscle-formation-regeneration')\n",
    "sys.path.append(os.path.abspath('..'))\n",
    "\n",
    "import warnings\n",
    "warnings.simplefilter('ignore', pd.errors.DtypeWarning)\n",
    "np.seterr(divide='ignore')\n",
    "warnings.simplefilter(\"ignore\")\n",
    "\n",
    "\n",
    "import TimeSeriesAnalysis.analysis.calc_single_cell_properties as calcultator \n",
    "import TimeSeriesAnalysis.analysis.utils as utils\n",
    "import TimeSeriesAnalysis.data_layer.utils as data_utils\n",
    "import TimeSeriesAnalysis.configuration.consts as consts\n",
    "import TimeSeriesAnalysis.configuration.params as params"
   ]
  },
  {
   "cell_type": "markdown",
   "id": "5942af18",
   "metadata": {},
   "source": [
    "# Load the data"
   ]
  },
  {
   "cell_type": "code",
   "execution_count": 3,
   "id": "f22de00d",
   "metadata": {},
   "outputs": [],
   "source": [
    "scores_df_s3 = data_utils.get_scores_df_with_fusion()"
   ]
  },
  {
   "cell_type": "code",
   "execution_count": null,
   "id": "16572f4d",
   "metadata": {},
   "outputs": [],
   "source": [
    "# validate that all fusion-timing-tagged-cells are semi-manually tracked\n",
    "no_data_tracks = []\n",
    "untracked_cells_ids = []\n",
    "for track_id in scores_df_s3[\"Spot track ID\"].unique():\n",
    "    track_data = scores_df_s3[(scores_df_s3[\"Spot track ID\"]==track_id)]\n",
    "    if len(track_data)<=1:\n",
    "        if track_data[\"manual manual\"].sum()==0:\n",
    "            untracked_cells_ids.append(track_id)\n",
    "        else:\n",
    "            no_data_tracks.append(track_id)\n",
    "        \n",
    "print(\"number of fusion annotated cells: \", scores_df_s3[\"Spot track ID\"].nunique())\n",
    "print(f\"number of untracked cells: {len(untracked_cells_ids)}/{scores_df_s3['Spot track ID'].nunique()}\")\n",
    "print(f\"number of no data cells: {len(no_data_tracks)}/{scores_df_s3['Spot track ID'].nunique()}\")\n",
    "print(f\"no data cells: {no_data_tracks}\")"
   ]
  },
  {
   "cell_type": "markdown",
   "id": "61e08e19",
   "metadata": {},
   "source": [
    "# Inspect each annotated cell"
   ]
  },
  {
   "cell_type": "code",
   "execution_count": null,
   "id": "81140419",
   "metadata": {},
   "outputs": [],
   "source": [
    "diff_score_1st_fusion = scores_df_s3[(scores_df_s3[\"time\"]==scores_df_s3[\"fusion_time\"])]\n",
    "print(f\"average differentiation score on fusion (motility): {round(diff_score_1st_fusion['score_motility'].mean(),3)} +- {round(diff_score_1st_fusion['score_motility'].std(),3)}\")\n",
    "print(f\"average differentiation score on fusion (intensity): {round(diff_score_1st_fusion['score_intensity'].mean(),3)} +- {round(diff_score_1st_fusion['score_intensity'].std(),3)}\")"
   ]
  },
  {
   "cell_type": "code",
   "execution_count": null,
   "id": "21ccc9dc",
   "metadata": {},
   "outputs": [],
   "source": [
    "scores_df_s3_fused = calcultator.get_terminal_diff_time(scores_df_s3_fused, modal_col, 0.78)\n",
    "scores_df_s3_fused = calcultator.get_differentiation_fusion_duration(scores_df_s3_fused, modal_col)\n",
    "\n",
    "(low_thresh, high_thresh) = ((0, 0.5), (0.5, 1)) if \"binary\" in modal_col else ((0.2, 0.3), (0.7, 0.8))\n",
    "scores_df_s3_fused = calcultator.get_diff_duration(scores_df_s3_fused, modal_col, low_thresh, high_thresh)\n",
    "scores_df_s3_fused = calcultator.get_diff_start_time(scores_df_s3_fused, modal_col, low_thresh, high_thresh)"
   ]
  }
 ],
 "metadata": {
  "kernelspec": {
   "display_name": "Python 3 (tf-env-new)",
   "language": "python",
   "name": "tf-env-new"
  },
  "language_info": {
   "codemirror_mode": {
    "name": "ipython",
    "version": 3
   },
   "file_extension": ".py",
   "mimetype": "text/x-python",
   "name": "python",
   "nbconvert_exporter": "python",
   "pygments_lexer": "ipython3",
   "version": "3.8.6"
  }
 },
 "nbformat": 4,
 "nbformat_minor": 5
}
