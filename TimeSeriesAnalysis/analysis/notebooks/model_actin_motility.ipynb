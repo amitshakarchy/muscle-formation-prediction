{
 "cells": [
  {
   "cell_type": "code",
   "execution_count": 2,
   "id": "9af5e56e",
   "metadata": {},
   "outputs": [],
   "source": [
    "import pickle\n",
    "import pandas as pd\n",
    "import seaborn as sns\n",
    "import numpy as np\n",
    "import matplotlib.pyplot as plt\n",
    "import matplotlib as mpl\n",
    "import warnings\n",
    "import sys\n",
    "import os\n",
    "from sklearn.ensemble import RandomForestClassifier\n",
    "from sklearn.metrics import classification_report, roc_curve\n",
    "from sklearn import metrics\n",
    "from sklearn.model_selection import RandomizedSearchCV\n",
    "import scipy\n",
    "\n",
    "\n",
    "warnings.simplefilter('ignore', pd.errors.DtypeWarning)\n",
    "sys.path.append('/sise/home/shakarch/muscle-formation-regeneration')\n",
    "sys.path.append(os.path.abspath('..'))\n",
    "np.seterr(divide='ignore')\n",
    "warnings.simplefilter(\"ignore\")\n",
    "\n",
    "from TimeSeriesAnalysis.utils.data_load_save import *\n",
    "import TimeSeriesAnalysis.consts as consts\n",
    "import TimeSeriesAnalysis.params as params\n",
    "from TimeSeriesAnalysis.auc_over_time_diff_prob import *\n",
    "from TimeSeriesAnalysis.build_models_on_transformed_tracks import *"
   ]
  },
  {
   "cell_type": "code",
   "execution_count": null,
   "id": "b5a3a7c3",
   "metadata": {},
   "outputs": [],
   "source": []
  }
 ],
 "metadata": {
  "kernelspec": {
   "display_name": "Python 3 (tf-env-new)",
   "language": "python",
   "name": "tf-env-new"
  },
  "language_info": {
   "codemirror_mode": {
    "name": "ipython",
    "version": 3
   },
   "file_extension": ".py",
   "mimetype": "text/x-python",
   "name": "python",
   "nbconvert_exporter": "python",
   "pygments_lexer": "ipython3",
   "version": "3.8.6"
  }
 },
 "nbformat": 4,
 "nbformat_minor": 5
}
