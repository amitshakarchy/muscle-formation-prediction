{
 "cells": [
  {
   "cell_type": "code",
   "execution_count": 5,
   "id": "d43a2bfe",
   "metadata": {},
   "outputs": [],
   "source": [
    "%matplotlib inline"
   ]
  },
  {
   "cell_type": "code",
   "execution_count": 6,
   "id": "5d359aa8",
   "metadata": {},
   "outputs": [],
   "source": [
    "import skimage.io\n",
    "import numpy as np\n",
    "import matplotlib as mpl\n",
    "import matplotlib.pyplot as plt\n",
    "import matplotlib.animation as animation\n",
    "import mpl_toolkits\n",
    "from mpl_toolkits.mplot3d import Axes3D\n",
    "from matplotlib.animation import FuncAnimation, writers\n",
    "import pandas as pd\n",
    "import ipympl\n",
    "from mpl_toolkits.axes_grid1.axes_divider import make_axes_locatable\n",
    "import math\n",
    "import sys, os\n",
    "sys.path.append('/sise/home/shakarch/muscle-formation-regeneration')\n",
    "sys.path.append(os.path.abspath('..'))\n",
    "from TimeSeriesAnalysis.utils.data_load_save import *\n",
    "\n",
    "plt.rcParams[\"animation.html\"] = \"jshtml\"\n",
    "# plt.rcParams['animation.ffmpeg_path'] = \"C:\\\\FFmpeg\\\\bin\\\\ffmpeg\"\n",
    "plt.rcParams['figure.dpi'] = 80  \n",
    "plt.rcParams['animation.embed_limit'] = 2**128\n",
    "plt.rcParams['figure.figsize']=(12,12)"
   ]
  },
  {
   "cell_type": "markdown",
   "id": "0dd90a15",
   "metadata": {},
   "source": [
    "<h2>Prepare Data<h2>"
   ]
  },
  {
   "cell_type": "code",
   "execution_count": 7,
   "id": "5e7051b5",
   "metadata": {},
   "outputs": [],
   "source": [
    "def load_vid(videoPath):\n",
    "    video_tif_nuc = skimage.io.imread(videoPath)\n",
    "    video_np = np.array(video_tif_nuc)\n",
    "    \n",
    "    return video_np\n"
   ]
  },
  {
   "cell_type": "markdown",
   "id": "a0518bb6",
   "metadata": {},
   "source": [
    "<h2>Creating new data frame with Sma and Discretization columns<h2>"
   ]
  },
  {
   "cell_type": "code",
   "execution_count": 16,
   "id": "d4a5a35c",
   "metadata": {},
   "outputs": [],
   "source": [
    "def Create_Sma_Column(dataFrame, columnToCalculate, windowSizeSma):\n",
    "    ID_tracks = [group for _, group in dataFrame.groupby('ID')]\n",
    "    tracks_SMA = []\n",
    "    \n",
    "    for ID in ID_tracks:\n",
    "        score_df = ID\n",
    "        score_df['score_SMA'] = score_df[columnToCalculate].rolling(windowSizeSma).mean()\n",
    "        tracks_SMA.append(score_df)\n",
    "\n",
    "    All_tracks_SMA = pd.concat(tracks_SMA)\n",
    "    \n",
    "    return All_tracks_SMA\n",
    "\n",
    "def Create_Discretization_Column(dataFrame, columnToCalculate, pathToSave):\n",
    "    \n",
    "    def bins(num):\n",
    "        floor_num = (math.floor(num * 10)) /10\n",
    "        return floor_num\n",
    "    \n",
    "    dataFrame[columnToCalculate] = All_tracks_SMA[columnToCalculate].fillna(0)\n",
    "    dataFrame['score_discretization'] = dataFrame['score_intensity']\n",
    "    ID_tracks = [group for _, group in All_tracks_SMA.groupby('ID')]\n",
    "    tracks_discretization = []\n",
    "    \n",
    "    for ID in ID_tracks:   \n",
    "        score_df = ID\n",
    "        score = ID.iloc[:,7]\n",
    "        score_disc = [bins(item) for item in score]\n",
    "\n",
    "        score_df['score_discretization'] = score_disc\n",
    "        tracks_discretization.append(score_df)\n",
    "\n",
    "    All_tracks_bins_SMA = pd.concat(tracks_discretization)\n",
    "    df_to_pickle = All_tracks_bins_SMA.to_pickle(pathToSave)\n",
    "    \n",
    "    return df_to_pickle\n",
    "\n",
    "def Create_Sma_And__Discretization_Column(dataFrame, columnToCalculate, windowSizeSma, pathToSave):\n",
    "    df_with_sma = Create_Sma_Column(dataFrame, columnToCalculate, windowSizeSma)\n",
    "    df_with_disc_sma = Create_Discretization_Column(df_with_sma, columnToCalculate, pathToSave)\n",
    "    \n",
    "    return df_with_disc_sma\n",
    "\n",
    "def create_change_in_score_column(df, col_to_calculate): # todo group by Spot track ID & sory by Spot frame\n",
    "    df[f\"{col_to_calculate}_change\"] = df[col_to_calculate].diff()\n",
    "    return df\n",
    "\n",
    "\n",
    "def convert_to_groupByFrame(df):\n",
    "    tracks = [group for _, group in df.groupby('Spot frame')]\n",
    "    \n",
    "    return tracks\n",
    "\n"
   ]
  },
  {
   "cell_type": "markdown",
   "id": "e66d8941",
   "metadata": {},
   "source": [
    "<h2>Visualization<h2>"
   ]
  },
  {
   "cell_type": "code",
   "execution_count": 9,
   "id": "f66bd396",
   "metadata": {},
   "outputs": [],
   "source": [
    "# load data\n",
    "tracks = get_all_properties_df(\"actin_intensity\", 1, 5, scores_vid_num=3)\n",
    "tracks_by_frame = convert_to_groupByFrame(tracks)\n",
    "video_np = load_vid(\"/storage/users/assafzar/Muscle_Differentiation_AvinoamLab/data/videos/test/S3_nuclei.tif\") # 211212erki-p38-stiching_s3_EGFP_ORG"
   ]
  },
  {
   "cell_type": "code",
   "execution_count": 25,
   "id": "308c84a3",
   "metadata": {},
   "outputs": [],
   "source": [
    "def VisualizationAnimation(tracksDataFrame, frameToStart, present_col_name, GifName, video, StartWindow=0, FinalWindow=258, cmap=\"Oranges\", norm_vals=(0, 1)):\n",
    "    fig,ax = plt.subplots(figsize=(15,13))\n",
    "    x_val = []\n",
    "    y_val = []\n",
    "    im = ax.plot(0,0)\n",
    "    frame = frameToStart\n",
    "    div = make_axes_locatable(ax)\n",
    "    cax = div.append_axes('right', '3%', '5%')\n",
    "    tracksDataFrame = tracksDataFrame[StartWindow:FinalWindow]\n",
    "    \n",
    "    def animate(i):\n",
    "        frame = int(i[\"Spot frame\"].min())\n",
    "        x_val = (i[\"Spot position X\"]) / 0.462\n",
    "        y_val = (i[\"Spot position Y\"]) / 0.462\n",
    "        color = i[present_col_name]\n",
    "        print(frame)\n",
    "        \n",
    "        cax.cla()\n",
    "        ax.cla()\n",
    "        ax.set_xlim(0,3500)\n",
    "        ax.set_ylim(0,3500)\n",
    "\n",
    "        hour_time = frame * (1/12)\n",
    "        ax.set_title(\"Time: {hour:.2f} (h)\".format(hour = hour_time), fontsize=25, color=\"orange\")\n",
    "        ax.get_xaxis().set_visible(False)\n",
    "        ax.get_yaxis().set_visible(False)\n",
    "        frame_image = video_np[frame] \n",
    "        plt_image_cell = ax.imshow(frame_image, vmin=0, vmax=255, cmap='gist_gray')\n",
    "\n",
    "        im = ax.scatter(x_val,y_val,s=50,c=color, cmap=cmap, edgecolor='black', linewidth=0.75, alpha=0.75, norm=mpl.colors.Normalize(norm_vals[0], norm_vals[1]))\n",
    "        plt.colorbar(im, cax=cax, ticks=np.arange(0,1,0.1))\n",
    "    \n",
    "    anim = FuncAnimation(fig,animate,frames=tracksDataFrame,interval=100)\n",
    "\n",
    "    writergif = animation.PillowWriter(fps=10)\n",
    "    anim.save(GifName,writer=writergif)\n",
    "\n",
    "    plt.close()\n",
    "\n",
    "    "
   ]
  },
  {
   "cell_type": "code",
   "execution_count": 27,
   "id": "59bd2c5b",
   "metadata": {},
   "outputs": [
    {
     "name": "stdout",
     "output_type": "stream",
     "text": [
      "179\n",
      "179\n",
      "180\n",
      "181\n",
      "182\n",
      "183\n",
      "184\n",
      "185\n",
      "186\n",
      "187\n",
      "188\n",
      "189\n",
      "190\n",
      "191\n",
      "192\n",
      "193\n",
      "194\n",
      "195\n",
      "196\n",
      "197\n",
      "198\n",
      "199\n",
      "200\n",
      "201\n",
      "202\n",
      "203\n",
      "204\n",
      "205\n",
      "206\n",
      "207\n",
      "208\n",
      "209\n",
      "210\n",
      "211\n",
      "212\n",
      "213\n",
      "214\n",
      "215\n",
      "216\n",
      "217\n",
      "218\n",
      "219\n",
      "220\n",
      "221\n",
      "222\n",
      "223\n",
      "224\n",
      "225\n",
      "226\n",
      "227\n",
      "228\n"
     ]
    }
   ],
   "source": [
    "tracks = create_change_in_score_column(tracks, \"score_intensity\")\n",
    "tracks_by_frame = convert_to_groupByFrame(tracks)\n",
    "VisualizationAnimation(tracks_by_frame, 29, \"score_intensity_change\", 'Diff_visualization_SMA_New.gif', video_np, 150, 200, cmap=\"PiYG\", norm_vals=(-1,1))"
   ]
  },
  {
   "cell_type": "code",
   "execution_count": 21,
   "id": "b839dbf9",
   "metadata": {},
   "outputs": [
    {
     "data": {
      "text/plain": [
       "count    70592.000000\n",
       "mean         0.000035\n",
       "std          0.066764\n",
       "min         -0.932257\n",
       "25%         -0.028362\n",
       "50%          0.000000\n",
       "75%          0.029900\n",
       "max          0.786603\n",
       "Name: score_intensity_change, dtype: float64"
      ]
     },
     "execution_count": 21,
     "metadata": {},
     "output_type": "execute_result"
    }
   ],
   "source": [
    "tracks[\"score_intensity_change\"].describe()"
   ]
  },
  {
   "cell_type": "code",
   "execution_count": null,
   "id": "415692e4",
   "metadata": {},
   "outputs": [],
   "source": []
  }
 ],
 "metadata": {
  "kernelspec": {
   "display_name": "Python 3 (tf-env-new)",
   "language": "python",
   "name": "tf-env-new"
  },
  "language_info": {
   "codemirror_mode": {
    "name": "ipython",
    "version": 3
   },
   "file_extension": ".py",
   "mimetype": "text/x-python",
   "name": "python",
   "nbconvert_exporter": "python",
   "pygments_lexer": "ipython3",
   "version": "3.8.6"
  }
 },
 "nbformat": 4,
 "nbformat_minor": 5
}
