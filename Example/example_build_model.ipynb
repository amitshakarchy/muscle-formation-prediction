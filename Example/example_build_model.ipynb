{
 "cells": [
  {
   "cell_type": "code",
   "execution_count": 1,
   "id": "2a2c3af5-26b0-4d35-9c69-2388d5ddf833",
   "metadata": {},
   "outputs": [],
   "source": [
    "import pandas as pd\n",
    "import matplotlib.pyplot as plt\n",
    "import numpy as np\n",
    "from tsfresh import select_features\n",
    "from sklearn.ensemble import RandomForestClassifier\n",
    "from sklearn.metrics import classification_report, roc_curve\n",
    "from sklearn import metrics\n",
    "import pickle\n",
    "import joblib\n",
    "import re\n",
    "from collections import Counter\n",
    "import sys, os\n",
    "import random"
   ]
  },
  {
   "cell_type": "markdown",
   "id": "550d552a-dbd9-45c2-be75-169bfe69baef",
   "metadata": {},
   "source": [
    "### Configuration:\n",
    "1) WIN_SIZE: window crop on actin intensity measurements\n",
    "2) diff_window: window crop on actin intensity measurements\n",
    "3) con_window: frames ro train the model on control group"
   ]
  },
  {
   "cell_type": "code",
   "execution_count": 2,
   "id": "2002afac-868b-4787-9e15-5b216c16a9a4",
   "metadata": {},
   "outputs": [],
   "source": [
    "WIN_SIZE=16 \n",
    "diff_window=[130, 160]\n",
    "con_window=[[0, 30], [40, 70], [90, 120], [130, 160], [180, 210], [220, 250]] "
   ]
  },
  {
   "cell_type": "markdown",
   "id": "efd53222-05e1-4ce7-9655-c8dfdd1724e0",
   "metadata": {},
   "source": [
    "# Load and preprocess the data #"
   ]
  },
  {
   "cell_type": "code",
   "execution_count": 3,
   "id": "b41c8fb2-0c96-42f3-a43c-5444f1c91a31",
   "metadata": {},
   "outputs": [],
   "source": [
    "def clean_redundant_columns(df):\n",
    "    \"\"\"\n",
    "    Removes redundant columns from the DataFrame based on a specific pattern.\n",
    "\n",
    "    :param df: (pd.DataFrame) DataFrame to clean.\n",
    "    :return: (pd.DataFrame) DataFrame with redundant columns removed.\n",
    "    \"\"\"\n",
    "    remove_cols = []\n",
    "    cols_to_remove = [\"target\"]\n",
    "    for col_to_remove in cols_to_remove:\n",
    "        for col_name in df.columns:\n",
    "            if col_name.startswith(col_to_remove):\n",
    "                remove_cols.append(col_name)\n",
    "    df = df.drop(columns=remove_cols)\n",
    "    return df"
   ]
  },
  {
   "cell_type": "code",
   "execution_count": 4,
   "id": "bc09206c-ae98-4524-a4c5-08e205cdc12c",
   "metadata": {},
   "outputs": [],
   "source": [
    "def concat_dfs(diff_df, con_df, diff_t_window=None, con_t_windows=None):\n",
    "    \"\"\"\n",
    "    Concatenates the ERK and control dataframes into a single dataframe for further processing.\n",
    "    The function cuts the required time windows from the dataframes and assigns target labels.\n",
    "\n",
    "    :param diff_df: (pd.DataFrame) Dataframe containing the ERK data.\n",
    "    :param con_df: (pd.DataFrame) Dataframe containing the control data.\n",
    "    :param diff_t_window: (Optional[Tuple[int, int]]) Time window for the ERK data (start frame, end frame)\n",
    "                            (default: None).\n",
    "    :param con_t_windows: (Optional[List[Tuple[int, int]]]) Time windows for the control data (list of start and end\n",
    "                            frames) (default: None).\n",
    "    :return: (pd.DataFrame) Concatenated dataframe containing the ERK and control data.\n",
    "    \"\"\"\n",
    "        \n",
    "    def set_indexes(df, target, max_val):\n",
    "        df[\"Spot track ID\"] = df[\"Spot track ID\"] + max_val\n",
    "        max_val = df[\"Spot track ID\"].max() + 1\n",
    "        df['target'] = np.array([target for i in range(len(df))])\n",
    "        return df, max_val\n",
    "\n",
    "    max_val = 0\n",
    "    diff_start, diff_end = diff_t_window\n",
    "    window_size = diff_end - diff_start\n",
    "\n",
    "    # Erk video\n",
    "    # Cut the needed time window\n",
    "    new_diff_df = pd.DataFrame()\n",
    "    diff_df = diff_df[diff_df[\"Spot frame\"] == diff_end]\n",
    "    print(\"size of diff_df: \", diff_df.shape)\n",
    "\n",
    "    for label, label_df in diff_df.groupby('Spot track ID'):\n",
    "        # new_diff_df = new_diff_df.append(label_df)\n",
    "        new_diff_df = pd.concat([new_diff_df, label_df], ignore_index=True)\n",
    "\n",
    "    # control video\n",
    "    # Cut the needed time window\n",
    "    control_df = pd.DataFrame()\n",
    "    new_label = max(con_df['Spot track ID'].unique()) + 1\n",
    "    for start, end in con_t_windows:\n",
    "        tmp_df = con_df[con_df[\"Spot frame\"] == end]\n",
    "        for label, label_df in tmp_df.groupby('Spot track ID'):\n",
    "            new_label += 1\n",
    "            label_df[\"Spot track ID\"] = new_label\n",
    "            # control_df = control_df.append(label_df)\n",
    "            control_df = pd.concat([control_df, label_df], ignore_index=True)\n",
    "    con_df = control_df.copy()\n",
    "    print(\"size of con_df: \", con_df.shape)\n",
    "\n",
    "    new_diff_df, max_val = set_indexes(new_diff_df, target=True, max_val=max_val)\n",
    "    con_df, _ = set_indexes(con_df, target=False, max_val=max_val)\n",
    "    total_df = pd.concat([new_diff_df, con_df], ignore_index=True)\n",
    "    return total_df\n"
   ]
  },
  {
   "cell_type": "code",
   "execution_count": 5,
   "id": "7bd8215a-16ca-4c9e-ab2c-b8cbf57f2b20",
   "metadata": {},
   "outputs": [],
   "source": [
    "def downcast_df(data_copy, fillna=True):\n",
    "    \"\"\"\n",
    "    Downcasts the data types of a DataFrame to reduce memory usage.\n",
    "    :param data_copy: (pd.DataFrame) The DataFrame to be downcasted.\n",
    "    :param fillna: (bool, optional) Whether to fill NaN values with zero. Default is True.\n",
    "    :return: (pd.DataFrame) The downcasted DataFrame.\n",
    "    \"\"\"\n",
    "    data_copy = data_copy.copy()\n",
    "    if fillna:\n",
    "        data_copy = data_copy.fillna(0)\n",
    "    data_copy = data_copy.dropna(axis=1)\n",
    "    cols = list(data_copy.drop(columns=\"Spot track ID\").columns) if \"spot track ID\" in data_copy.columns else list(\n",
    "        data_copy.columns)\n",
    "    for col in cols:\n",
    "        try:\n",
    "            if data_copy[col].sum().is_integer():\n",
    "                data_copy[col] = pd.to_numeric(data_copy[col], downcast='integer')\n",
    "            else:\n",
    "                data_copy[col] = pd.to_numeric(data_copy[col], downcast='float')\n",
    "\n",
    "            if np.isinf(data_copy[col]).sum() > 0:\n",
    "                data_copy[col] = data_copy[col]\n",
    "        except:\n",
    "            continue\n",
    "    return data_copy\n"
   ]
  },
  {
   "cell_type": "code",
   "execution_count": 6,
   "id": "9a65b6c1-d006-4d40-b596-3ec9352ceaba",
   "metadata": {},
   "outputs": [],
   "source": [
    "def load_tsfresh_pkl(transfromed_pkl_path):\n",
    "    \"\"\"\n",
    "    Loads the TSFRESH-transformed data from a pickle file.\n",
    "\n",
    "    :param transformed_pkl_path: (str) Path template for the transformed pickle file.\n",
    "    :return: (pd.DataFrame) Loaded TSFRESH-transformed data.\n",
    "    \"\"\"\n",
    "    print(f\"read data from {transfromed_pkl_path}\")\n",
    "    df = pickle.load(open(transfromed_pkl_path, 'rb'))\n",
    "    df = downcast_df(df, fillna=False)\n",
    "    df = clean_redundant_columns(df)\n",
    "    return df"
   ]
  },
  {
   "cell_type": "markdown",
   "id": "9c17c682-2148-4e2b-ae9e-3c7ccdeb4ea4",
   "metadata": {},
   "source": [
    "### Loads and cleans the transformed data for training and testing sets: \n",
    "####\n",
    "1) con_df_train: the control (DMSO) training set.\n",
    "2) con_df_test: the control (DMSO) testing set.\n",
    "3) diff_df_train: the differentiation (ERKi) training set.\n",
    "4) diff_df_test: the differentiation (ERKi) testing set. \n",
    "\n",
    "\n",
    "##### The data is data frame after preprocesses a data chunk by calculating actin intensity features, normalizing data, and transforming it to tsfresh features vector.\n"
   ]
  },
  {
   "cell_type": "code",
   "execution_count": null,
   "id": "8fecf380-f0e7-4e28-8eaf-b6a9672dcbce",
   "metadata": {},
   "outputs": [],
   "source": [
    "\n",
    "diff_df_train = load_tsfresh_pkl('data/diff_df_train.pickle')\n",
    "print(f\"diff train len: {diff_df_train.shape}\", flush=True)\n",
    "\n",
    "con_df_train = load_tsfresh_pkl('data/con_df_train.pickle')\n",
    "print(f\"con_df_train len: {con_df_train.shape}\", flush=True)\n",
    "\n",
    "diff_df_test = load_tsfresh_pkl('data/diff_df_test.pickle')\n",
    "\n",
    "con_df_test = load_tsfresh_pkl('data/con_df_test.pickle')"
   ]
  },
  {
   "cell_type": "markdown",
   "id": "7ac12b14-f112-41b8-93a4-a7c85f1821a3",
   "metadata": {},
   "source": [
    "# Train and build the model #"
   ]
  },
  {
   "cell_type": "code",
   "execution_count": 8,
   "id": "4658cab0-bd16-4bc9-8de1-1c2d831eb62e",
   "metadata": {},
   "outputs": [],
   "source": [
    "def evaluate(clf, X_test, y_test):\n",
    "    \"\"\"\n",
    "    Evaluates the performance of a classifier on the test data. It predicts the labels using the classifier,\n",
    "    generates a classification report, calculates the AUC score based on the predicted labels and true labels,\n",
    "    and returns the classification report and AUC score.\n",
    "\n",
    "    :param clf: (classifier) The trained classifier.\n",
    "    :param X_test: (pd.DataFrame) Test features.\n",
    "    :param y_test: (pd.Series) True labels for the test data.\n",
    "    :return: (Tuple[str, float]) Classification report and AUC score.\n",
    "    \"\"\"\n",
    "        \n",
    "    pred = clf.predict(X_test)\n",
    "    report = classification_report(y_test, pred)\n",
    "\n",
    "    fpr, tpr, thresholds = roc_curve(y_test, pred, pos_label=1)\n",
    "    auc_score = metrics.auc(fpr, tpr)\n",
    "    print(auc_score)\n",
    "    return auc_score, report"
   ]
  },
  {
   "cell_type": "code",
   "execution_count": 9,
   "id": "891466c7-e21b-40fd-99a5-5ed8f1b4622f",
   "metadata": {},
   "outputs": [],
   "source": [
    "def evaluate_clf(dir_path, clf, X_test, y_test, y_train, diff_window, con_window):\n",
    "    \"\"\"\n",
    "    Evaluates a classifier model by generating a classification report and calculating the AUC score.\n",
    "    It also plots the ROC curve, saves the classification report, AUC score, and additional information in a text file.\n",
    "\n",
    "    :param dir_path: (str) Directory path to save the evaluation results.\n",
    "    :param clf: (Any) Classifier model to evaluate.\n",
    "    :param X_test: (pd.DataFrame) Test features.\n",
    "    :param y_test: (pd.Series) Test target variable.\n",
    "    :param y_train: (pd.Series) Train target variable.\n",
    "    :param diff_window: (int) ERK differentiation window size.\n",
    "    :param con_window: (int) control (DMSO) window size.\n",
    "    :return: (float) AUC score.\n",
    "    \"\"\"\n",
    "    auc_score, report = evaluate(clf, X_test, y_test)\n",
    "    txt_file = open(dir_path + '/info.txt', 'a')\n",
    "    txt_file.write(\n",
    "                    f\"classification report: {report}\"\n",
    "                   f\"\\n auc score: {auc_score}\"\n",
    "                   f\"\\n train samples:{Counter(y_train)}\"\n",
    "                   f\"\\n {diff_window} ERK, {con_window} con frames\"\n",
    "                   f\"\\n n features= {X_test.shape}\")\n",
    "\n",
    "    txt_file.close()\n",
    "\n",
    "    return auc_score"
   ]
  },
  {
   "cell_type": "code",
   "execution_count": 10,
   "id": "593949d5-a99e-4698-a1c4-1cf8c67df1d2",
   "metadata": {},
   "outputs": [],
   "source": [
    "def save_data(dir_path, clf=None, X_train=None, X_test=None, y_train=None, y_test=None):\n",
    "    \"\"\"\n",
    "    Saves a classifier, train & test data of a given model in a directory.\n",
    "    :param dir_path: (str) Directory path where the files will be saved\n",
    "    :param clf: (bool, optional) Whether to save the classifier. Default is True.\n",
    "    :param X_train: (bool, optional) Whether to save the training input data. Default is True.\n",
    "    :param X_test: (bool, optional) Whether to save the testing input data. Default is True.\n",
    "    :param y_train: (bool, optional) Whether to save the training target data. Default is True.\n",
    "    :param y_test: (bool, optional) Whether to save the testing target data. Default is True.\n",
    "    :return: \n",
    "    \"\"\"\n",
    "    if X_train is not None:\n",
    "        X_train.to_csv(dir_path + \"/\" + \"X_train\")\n",
    "    if X_test is not None:\n",
    "        X_test.to_csv(dir_path + \"/\" + \"X_test\")\n",
    "    if y_test is not None:\n",
    "        y_test.to_csv(dir_path + \"/\" + \"y_test\")\n",
    "    if y_train is not None:\n",
    "        y_train.to_csv(dir_path + \"/\" + \"y_train\")\n",
    "    if clf is not None:\n",
    "        joblib.dump(clf, dir_path + \"/\" + \"clf.joblib\")\n"
   ]
  },
  {
   "cell_type": "code",
   "execution_count": 11,
   "id": "bc4b3fbb-f999-4a8e-a2c8-3b693c7ae7c8",
   "metadata": {},
   "outputs": [],
   "source": [
    "def prep_data(diff_df, con_df, diff_t_window, con_t_windows):\n",
    "    \"\"\"\n",
    "    Prepares the data for training by concatenating differentiation (ERKi) and control (DMSO) dataframes,\n",
    "    shuffling the rows, handling missing values, extracting the target variable, and dropping unnecessary columns.\n",
    "\n",
    "    :param diff_df: (pd.DataFrame) Dataframe containing differentiation (ERKi) data.\n",
    "    :param con_df: (pd.DataFrame) Dataframe containing control (DMSO) data.\n",
    "    :param diff_t_window: (int) Time window size for differentiation (ERKi) data.\n",
    "    :param con_t_windows: (int) Time window size for control (DMSO) data.\n",
    "    :return: (tuple) Tuple containing the prepared dataframe and the target variable.\n",
    "    \"\"\"\n",
    "        \n",
    "    print(\"\\n preparing data\", flush=True)\n",
    "    print(\"\\nconcatenating control data & ERKi data\")\n",
    "    df = concat_dfs(diff_df, con_df, diff_t_window, con_t_windows)\n",
    "    del diff_df\n",
    "    del con_df\n",
    "    df = df.sample(frac=1).reset_index(drop=True)\n",
    "    print(\"\\nshape after concat_dfs\", df.shape)\n",
    "\n",
    "    df = df.replace([np.inf], np.nan)\n",
    "    df = df.dropna(axis=1)\n",
    "    print(\"\\nshape after dropna\", df.shape)\n",
    "\n",
    "    df.index = df['Spot track ID']\n",
    "    y = pd.Series(df['target'])\n",
    "    y.index = df['Spot track ID']\n",
    "    df = df.drop([\"target\", \"Spot frame\", \"Spot track ID\"], axis=1)\n",
    "    return df, y\n"
   ]
  },
  {
   "cell_type": "code",
   "execution_count": 12,
   "id": "1f5cdb22-c05c-4fc1-a65b-120ec01cfc92",
   "metadata": {},
   "outputs": [],
   "source": [
    "def train_model(X_train, y_train, modality):\n",
    "    \"\"\"\n",
    "    Trains a Random Forest classifier on the provided training data. The classifier is customized based on the specified\n",
    "    modality. It uses pre-defined parameters for 'motility' and 'actin_intensity' modalities. Returns the trained\n",
    "    classifier.\n",
    "\n",
    "    :param X_train: (pd.DataFrame) Training features.\n",
    "    :param y_train: (pd.Series) True labels for the training data.\n",
    "    :param modality: (str) Modality for customizing the classifier.\n",
    "    :return: (RandomForestClassifier) Trained Random Forest classifier.\n",
    "    \"\"\"\n",
    "\n",
    "    params_dict = {\"motility\": {'max_depth': 12, 'min_samples_leaf': 1, 'n_estimators': 100},\n",
    "                   \"actin_intensity\": {'max_depth': 20, 'min_samples_leaf': 1, 'n_estimators': 200}}\n",
    "    params = params_dict.get(modality) if params_dict.get(modality) is not None else {}\n",
    "\n",
    "    clf = RandomForestClassifier(**params)\n",
    "    clf.fit(X_train, y_train)\n",
    "    return clf"
   ]
  },
  {
   "cell_type": "code",
   "execution_count": 13,
   "id": "41e402f8-23ce-45c7-b9fa-ff11aa7e9137",
   "metadata": {},
   "outputs": [],
   "source": [
    "def build_state_prediction_model_light(save_dir_path, con_window, diff_window, modality, diff_df_test, con_df_test, diff_df_train, con_df_train):\n",
    "    \"\"\"\n",
    "    A light version (in terms of memory utilization) for building a state prediction model based on the provided data.\n",
    "    It retrieves the dataframes for the specified modality, prepares the training data, downcasts it to optimize memory\n",
    "    usage, selects relevant features, trains a model, evaluates it on the test data,\n",
    "    and saves the model and related data in the specified save_dir_path.\n",
    "\n",
    "    :param save_dir_path: (str) Path to save the model and related data.\n",
    "    :param transformed_data_path: (str) Path to the transformed data.\n",
    "    :param con_window: (list) Control temporal segments for training.\n",
    "    :param diff_window: (list) ERK temporal segment for training.\n",
    "    :param modality: (str) Modality name.\n",
    "    :return: (classifier) The built state prediction model.\n",
    "    \"\"\"\n",
    "    \n",
    "    print(\"loaded data, now start prep data\", flush=True)\n",
    "    X_train, y_train = prep_data(diff_df=diff_df_train, con_df=con_df_train, diff_t_window=diff_window,\n",
    "                                 con_t_windows=con_window)\n",
    "    X_train = downcast_df(X_train)\n",
    "\n",
    "    del diff_df_train\n",
    "    del con_df_train\n",
    "    print(\"deleted diff_df_train, con_df_train\", flush=True)\n",
    "\n",
    "    X_train = select_features(X_train, y_train, n_jobs=10)  # , chunksize=10\n",
    "    print(\"Done feature selection\", flush=True)\n",
    "\n",
    "    clf = train_model(X_train, y_train, modality)\n",
    "    \n",
    "    save_data(save_dir_path, X_train=X_train)\n",
    "\n",
    "    X_test, y_test = prep_data(diff_df=diff_df_test, con_df=con_df_test, diff_t_window=diff_window,\n",
    "                               con_t_windows=con_window)\n",
    "    X_test = X_test[list(clf.feature_names_in_)]\n",
    "    evaluate_clf(save_dir_path, clf, X_test, y_test, y_train, diff_window, con_window)\n",
    "    \n",
    " \n",
    "    save_data(save_dir_path, y_train=y_train, X_test=X_test, y_test=y_test, clf=clf)\n",
    "    save_data(save_dir_path,clf=clf)\n",
    "    return clf"
   ]
  },
  {
   "cell_type": "markdown",
   "id": "97c781cf-ea8c-4116-976e-6b03247d1a2a",
   "metadata": {},
   "source": [
    "### Train and build the model"
   ]
  },
  {
   "cell_type": "code",
   "execution_count": null,
   "id": "c4f1aaf4-62cc-4439-820d-8e851aeff81e",
   "metadata": {},
   "outputs": [],
   "source": [
    "modality='actin_intensity'\n",
    "save_path = 'clf_model/'\n",
    " \n",
    "os.makedirs((save_path), exist_ok=True)\n",
    "\n",
    "clf =build_state_prediction_model_light(save_dir_path=save_path,\n",
    "                                     con_window=con_window,\n",
    "                                     diff_window=diff_window, modality='actin_intensity', diff_df_test=diff_df_test,\n",
    "                                     con_df_test=con_df_test, diff_df_train=diff_df_train, con_df_train=con_df_train)\n",
    "cols = list(clf.feature_names_in_)\n",
    "cols.extend([\"Spot track ID\", \"Spot frame\"])\n",
    "print(\"finish build model\")\n"
   ]
  },
  {
   "cell_type": "markdown",
   "id": "aac1a08e-c95f-4125-88a8-70481f18b769",
   "metadata": {},
   "source": [
    "# Calculates single cells state scores over time trajectories"
   ]
  },
  {
   "cell_type": "code",
   "execution_count": 15,
   "id": "96b48f3c-ee13-4fb4-8a71-b719b4b18b4f",
   "metadata": {},
   "outputs": [],
   "source": [
    "def calc_state_trajectory(transformed_tracks_df, clf, n_frames=260):\n",
    "    \"\"\"\n",
    "    Calculates single cells state scores over time trajectories based on the provided tracks dataframe and the trained\n",
    "    classifier. The function iterates over each track in the dataframe, sorts the track frames, and predicts the state\n",
    "    at each frame using the classifier. The states are then stored in a new dataframe, where each row\n",
    "    represents a track and each column represents a frame's score.\n",
    "\n",
    "    :param transformed_tracks_df: (pd.DataFrame) Transformed tracks dataframe containing the data for prediction.\n",
    "    :param clf: (Classifier) Trained classifier for predicting the single cell state scores.\n",
    "    :param n_frames: (int) Number of frames in the trajectory (default: 260).\n",
    "    :return: (pd.DataFrame) Dataframe containing the state scores for each track at each frame.\n",
    "    \"\"\"\n",
    "    \n",
    "    df_score = pd.DataFrame(columns=[i for i in range(n_frames)])\n",
    "    for track_id, track in transformed_tracks_df.groupby(\"Spot track ID\"):\n",
    "        spot_frames = list(track.sort_values(\"Spot frame\")[\"Spot frame\"])\n",
    "        diff_score = {\"Spot track ID\": track_id}\n",
    "        try:\n",
    "            for t in spot_frames:\n",
    "                probs = clf.predict_proba(track[track[\"Spot frame\"] == t].drop([\"Spot track ID\", \"Spot frame\"], axis=1))\n",
    "                diff_score[t] = pd.to_numeric(probs[0][1], downcast='float')\n",
    "\n",
    "            diff_score_df = pd.DataFrame(diff_score, index=[0])\n",
    "            df_score = pd.concat([df_score, diff_score_df], ignore_index=True, sort=False)\n",
    "        except Exception as e:\n",
    "            print(e)\n",
    "            print(track[track[\"Spot frame\"] == t].drop([\"Spot track ID\", \"Spot frame\"], axis=1).size)\n",
    "    print(df_score.shape)\n",
    "    return df_score"
   ]
  },
  {
   "cell_type": "markdown",
   "id": "3d4a37dc-1ed3-4408-b536-f90f40650af6",
   "metadata": {},
   "source": [
    "### Calculate the score of ERKi (diff_df_test) and the score of DMSO (con_df_test) "
   ]
  },
  {
   "cell_type": "code",
   "execution_count": null,
   "id": "f3379c71-f361-430e-9c34-960bee64b460",
   "metadata": {},
   "outputs": [],
   "source": [
    "print(\"calc avg prob of diff test\")\n",
    "df = diff_df_test[cols].dropna(axis=1)\n",
    "df_score_dif = calc_state_trajectory(df, clf, n_frames=260)\n",
    "pickle.dump(df_score_dif, open(save_path + \"/\" + f\"df_score_diff_test.pkl\", 'wb'))\n",
    "\n",
    "print(\"calc avg prob of con test\")\n",
    "df = con_df_test[cols].dropna(axis=1)\n",
    "df_score_con = calc_state_trajectory(df, clf, n_frames=260)\n",
    "pickle.dump(df_score_dif, open(save_path + \"/\" + f\"df_score_con_test.pkl\", 'wb'))"
   ]
  },
  {
   "cell_type": "markdown",
   "id": "7f839e48-1a52-4978-9f9c-a6285b952158",
   "metadata": {},
   "source": [
    "# Plot the prediction of the model"
   ]
  },
  {
   "cell_type": "code",
   "execution_count": 17,
   "id": "13fe3198-2dbd-4ad8-a1a8-d3634be2320d",
   "metadata": {},
   "outputs": [],
   "source": [
    "def plot_avg_score(df_con, df_diff, modality, path=\"\"):\n",
    "    \"\"\"\n",
    "    Plots the average differentiation score over time for ERKi and control (DMSO) dataframes.\n",
    "    The plot includes the average values and standard deviation for both datasets.\n",
    "\n",
    "    :param df_con: (pd.DataFrame) Control (DMSO) dataframe.\n",
    "    :param df_diff: (pd.DataFrame) ERKi dataframe.\n",
    "    :param modality: (str) Type of modality (e.g., \"motility\", \"intensity\").\n",
    "    :param path: (str) Path to save the plot (optional).\n",
    "    :return: None.\n",
    "    \"\"\"\n",
    "\n",
    "    def plot(df, color1, color2):\n",
    "        avg_vals_diff = ([df[col].mean() for col in df.columns])\n",
    "        std_vals_diff = ([df[col].std() for col in df.columns])\n",
    "        p_std = np.asarray(avg_vals_diff) + np.asarray(std_vals_diff)\n",
    "        m_std = np.asarray(avg_vals_diff) - np.asarray(std_vals_diff)\n",
    "\n",
    "        plt.plot([(i + int(df.columns[0])) * 5 / 60 for i in range(len(avg_vals_diff))], avg_vals_diff,\n",
    "                 color=color1, label=\"avg\")\n",
    "\n",
    "        plt.fill_between([(i + int(df.columns[0])) * 5 / 60 for i in range(len(avg_vals_diff))], m_std, p_std,\n",
    "                         alpha=0.4,\n",
    "                         color=color2, label=\"std\")\n",
    "\n",
    "    plot(df_diff, \"DarkOrange\", \"Orange\")\n",
    "    plot(df_con, \"blue\", \"blue\")\n",
    "    plt.legend([\"Erki avg\", \"Erki std\", \"DMSO avg\", \"DMSO std\"])\n",
    "    plt.xlabel(\"time (h)\")\n",
    "    plt.ylabel(\"avg score\")\n",
    "    plt.title(f\"avg differentiation score over time ({modality})\")\n",
    "    plt.plot([i * 5 / 60 for i in range(260)], [0.5 for i in range(260)], color=\"black\", linestyle=\"--\")\n",
    "    if path:\n",
    "        plt.savefig(path + f\"avg differentiation score over time ({modality}).eps\", format=\"eps\", dpi=300)\n",
    "    plt.show()\n",
    "    plt.clf()\n"
   ]
  },
  {
   "cell_type": "markdown",
   "id": "c3640230-41a3-471e-8d28-8669df762430",
   "metadata": {},
   "source": [
    "### Example of plot score"
   ]
  },
  {
   "cell_type": "code",
   "execution_count": 18,
   "id": "bdba2bd6-cf05-4d9b-be7b-caf2a333e0c6",
   "metadata": {},
   "outputs": [
    {
     "name": "stderr",
     "output_type": "stream",
     "text": [
      "The PostScript backend does not support transparency; partially transparent artists will be rendered opaque.\n"
     ]
    },
    {
     "data": {
      "image/png": "[encoded data removed]",
      "text/plain": [
       "<Figure size 640x480 with 1 Axes>"
      ]
     },
     "metadata": {},
     "output_type": "display_data"
    },
    {
     "data": {
      "text/plain": [
       "<Figure size 640x480 with 0 Axes>"
      ]
     },
     "metadata": {},
     "output_type": "display_data"
    }
   ],
   "source": [
    "plot_avg_score(df_score_con.drop(\"Spot track ID\", axis=1), df_score_dif.drop(\"Spot track ID\", axis=1), modality, f'{save_path}plot_scores_')\n"
   ]
  }
 ],
 "metadata": {
  "kernelspec": {
   "display_name": "Python 3 (ipykernel)",
   "language": "python",
   "name": "python3"
  },
  "language_info": {
   "codemirror_mode": {
    "name": "ipython",
    "version": 3
   },
   "file_extension": ".py",
   "mimetype": "text/x-python",
   "name": "python",
   "nbconvert_exporter": "python",
   "pygments_lexer": "ipython3",
   "version": "3.8.6"
  }
 },
 "nbformat": 4,
 "nbformat_minor": 5
}
